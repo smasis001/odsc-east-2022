{
 "cells": [
  {
   "cell_type": "markdown",
   "metadata": {},
   "source": [
    "# Face Mask Classification Example (part 2)\n",
    "### _Adversarial Robustness_ Workshop for ODSC East Conference \n",
    "#### (scheduled for April 19th, 2022 2:00 PM EST)\n",
    "### by Serg Masís ([LinkedIn](https://www.linkedin.com/in/smasis/), [Twitter](https://twitter.com/smasis), [Serg.ai](https://www.serg.ai/), [Amazon](https://www.amazon.com/kindle-dbs/entity/author/B08PQ8P9BS?_encoding=UTF8&node=283155&offset=0&pageSize=12&searchAlias=stripbooks&sort=author-sidecar-rank&page=1&langFilter=default#formatSelectorHeader), [Github](https://github.com/smasis001))"
   ]
  },
  {
   "cell_type": "markdown",
   "metadata": {},
   "source": [
    "This notebook will walk through:\n",
    "\n"
   ]
  },
  {
   "cell_type": "markdown",
   "metadata": {},
   "source": [
    "- Certifying Adversarial Robustness"
   ]
  },
  {
   "cell_type": "markdown",
   "metadata": {},
   "source": [
    "## The Preparations"
   ]
  },
  {
   "cell_type": "markdown",
   "metadata": {},
   "source": [
    "### Installing the Libraries"
   ]
  },
  {
   "cell_type": "code",
   "execution_count": null,
   "metadata": {},
   "outputs": [],
   "source": [
    "!pip install --upgrade numpy scikit-learn tensorflow matplotlib seaborn\n",
    "!pip install --upgrade machine-learning-datasets\n",
    "!pip install adversarial-robustness-toolbox==1.5.0"
   ]
  },
  {
   "cell_type": "markdown",
   "metadata": {},
   "source": [
    "### Loading the Libraries"
   ]
  },
  {
   "cell_type": "code",
   "execution_count": 1,
   "metadata": {},
   "outputs": [
    {
     "name": "stdout",
     "output_type": "stream",
     "text": [
      "CPU times: user 4.59 s, sys: 1.01 s, total: 5.6 s\n",
      "Wall time: 6.29 s\n"
     ]
    }
   ],
   "source": [
    "%%time\n",
    "import math\n",
    "import os\n",
    "os.environ['TF_CPP_MIN_LOG_LEVEL'] = '3'\n",
    "import warnings\n",
    "warnings.filterwarnings('ignore')\n",
    "import machine_learning_datasets as mldatasets\n",
    "import numpy as np\n",
    "from sklearn import preprocessing\n",
    "import tensorflow as tf\n",
    "tf.keras.backend.set_floatx('float32')\n",
    "from tensorflow.keras.models import Sequential\n",
    "from tensorflow.keras.layers import Dense, Flatten, Conv2D, MaxPooling2D, Dropout\n",
    "import matplotlib.pyplot as plt\n",
    "import seaborn as sns\n",
    "\n",
    "from art.estimators.classification import TensorFlowV2Classifier\n",
    "from art.estimators.certification.randomized_smoothing import TensorFlowV2RandomizedSmoothing\n",
    "from art.utils import compute_accuracy"
   ]
  },
  {
   "cell_type": "markdown",
   "metadata": {},
   "source": [
    "### Preparing the Data"
   ]
  },
  {
   "cell_type": "code",
   "execution_count": 2,
   "metadata": {},
   "outputs": [
    {
     "name": "stdout",
     "output_type": "stream",
     "text": [
      "https://github.com/PacktPublishing/Interpretable-Machine-Learning-with-Python/raw/master/datasets/maskedface-net_thumbs_sampled.zip downloaded to /Users/serg/EXTEND/PROJECTS/InterpretableML.ai/v2/presentations/odsc-east/odsc-east-2022/notebooks/data/maskedface-net_thumbs_sampled.zip\n",
      "/Users/serg/EXTEND/PROJECTS/InterpretableML.ai/v2/presentations/odsc-east/odsc-east-2022/notebooks/data/maskedface-net_thumbs_sampled.zip uncompressed to /Users/serg/EXTEND/PROJECTS/InterpretableML.ai/v2/presentations/odsc-east/odsc-east-2022/notebooks/data/maskedface-net_thumbs_sampled\n",
      "21000 dataset files found in /Users/serg/EXTEND/PROJECTS/InterpretableML.ai/v2/presentations/odsc-east/odsc-east-2022/notebooks/data/maskedface-net_thumbs_sampled folder\n"
     ]
    }
   ],
   "source": [
    "X_train, X_test, y_train, y_test =\\\n",
    "                                    mldatasets.load(\"maskedface-net_thumbs_sampled\", prepare=True)\n",
    "X_train, X_test = X_train / 255.0, X_test / 255.0\n",
    "min_ = X_train.min()\n",
    "max_ = X_train.max()"
   ]
  },
  {
   "cell_type": "code",
   "execution_count": 3,
   "metadata": {},
   "outputs": [
    {
     "name": "stdout",
     "output_type": "stream",
     "text": [
      "X_train dim:\t(16800, 128, 128, 3)\n",
      "X_test dim:\t(4200, 128, 128, 3)\n",
      "y_train dim:\t(16800, 1)\n",
      "y_test dim:\t(4200, 1)\n",
      "X_train min:\t0.0\n",
      "X_train max:\t1.0\n",
      "y_train labels:\t['Correct' 'Incorrect' 'None']\n"
     ]
    }
   ],
   "source": [
    "print('X_train dim:\\t%s' % (X_train.shape,))\n",
    "print('X_test dim:\\t%s' % (X_test.shape,))\n",
    "print('y_train dim:\\t%s' % (y_train.shape,))\n",
    "print('y_test dim:\\t%s' % (y_test.shape,))\n",
    "print('X_train min:\\t%s' % (min_))\n",
    "print('X_train max:\\t%s' % (max_))\n",
    "print('y_train labels:\\t%s' % (np.unique(y_train)))"
   ]
  },
  {
   "cell_type": "code",
   "execution_count": 4,
   "metadata": {},
   "outputs": [
    {
     "name": "stdout",
     "output_type": "stream",
     "text": [
      "['Correct', 'Incorrect', 'None']\n"
     ]
    }
   ],
   "source": [
    "ohe = preprocessing.OneHotEncoder(sparse=False)\n",
    "ohe.fit(y_train)\n",
    "labels_l = ohe.categories_[0].tolist()\n",
    "print(labels_l)"
   ]
  },
  {
   "cell_type": "code",
   "execution_count": 5,
   "metadata": {},
   "outputs": [],
   "source": [
    "rand = 9\n",
    "os.environ['PYTHONHASHSEED'] = str(rand)\n",
    "tf.random.set_seed(rand)\n",
    "np.random.seed(rand)"
   ]
  },
  {
   "cell_type": "code",
   "execution_count": 6,
   "metadata": {},
   "outputs": [],
   "source": [
    "sampl_md_idxs = np.random.choice(X_test.shape[0], 200, replace=False)\n",
    "X_test_mdsample = X_test[sampl_md_idxs].astype(np.float32)\n",
    "y_test_mdsample = y_test[sampl_md_idxs]"
   ]
  },
  {
   "cell_type": "markdown",
   "metadata": {},
   "source": [
    "## Evaluating and Certifying Adversarial Robustness"
   ]
  },
  {
   "cell_type": "markdown",
   "metadata": {},
   "source": [
    "### Certifying robustness with randomized smoothing\n",
    "***Optional: takes 1-5 hours***"
   ]
  },
  {
   "cell_type": "markdown",
   "metadata": {},
   "source": [
    "What if you want to guarantee robustness. Then here I give you an example of a certification method. But it's even more than that too, because it also trains a robust model! Previously, we saw how smoothing can foil adversarial noise, but you have to apply this in the preprocessing stage, not to mention you have to figure out how much to apply so that it's effective. Randomized Smoothing employs this smoothing principle by constructing a \"smoothed\" classifier from a base classifier. "
   ]
  },
  {
   "cell_type": "markdown",
   "metadata": {},
   "source": [
    "To train a smoothed classifier, we must first define a base classifier and all its training parameters. To that end, we need to initialize some standard parameters such as the number of epochs (`nb_epochs`), `batch_size`, the gradient descent optimization algorithm (`optimizer`), and the loss function (`loss_object`). Randomized smoothing also needs to know the number of classes (`nb_classes`) and the sample size (`sample_size`), which is how many perturbed instances it should create per example. We next have to change our training and test datasets to be float32 instead of float64. It will also be useful to make a one-hot encoded version of our labels so that it's easier to plug them into training (`y_train_ohe`) and evaluation (`y_test_mdsample_ohe`) functions without having to transform them every time."
   ]
  },
  {
   "cell_type": "code",
   "execution_count": 7,
   "metadata": {},
   "outputs": [
    {
     "name": "stdout",
     "output_type": "stream",
     "text": [
      "CPU times: user 2.61 s, sys: 15.8 s, total: 18.5 s\n",
      "Wall time: 1min 38s\n"
     ]
    }
   ],
   "source": [
    "%%time\n",
    "nb_epochs = 10\n",
    "batch_size = 128\n",
    "optimizer = tf.keras.optimizers.Adam(lr=0.001)\n",
    "loss_object = tf.keras.losses.CategoricalCrossentropy()\n",
    "nb_classes = len(np.unique(y_train))\n",
    "sample_size = 100\n",
    "\n",
    "X_train, X_test_mdsample = X_train.astype(np.float32), X_test_mdsample.astype(np.float32)\n",
    "y_train_ohe = ohe.transform(y_train).astype(np.float32)\n",
    "y_test_mdsample_ohe = ohe.transform(y_test_mdsample).astype(np.float32)"
   ]
  },
  {
   "cell_type": "markdown",
   "metadata": {},
   "source": [
    "Let's now make a simple function, `get_model`, which returns an untrained base model. It has the same architecture of the previously used base model in part 1."
   ]
  },
  {
   "cell_type": "code",
   "execution_count": 8,
   "metadata": {},
   "outputs": [],
   "source": [
    "def get_model(input_shape, min_, max_):\n",
    "    test_model = Sequential([\n",
    "        Conv2D(16, (3, 3), activation='relu', input_shape=input_shape),\n",
    "        MaxPooling2D(pool_size=(2, 2)),\n",
    "        Conv2D(32, (3, 3), activation='relu'),\n",
    "        MaxPooling2D(pool_size=(2, 2)),\n",
    "        Conv2D(64, (3, 3), activation='relu'),\n",
    "        MaxPooling2D(pool_size=(2, 2)),\n",
    "        Conv2D(128, (3, 3), activation='relu'),\n",
    "        MaxPooling2D(pool_size=(2, 2)),\n",
    "        Flatten(),\n",
    "        Dense(768, activation='relu'),\n",
    "        Dropout(0.35),\n",
    "        Dense(3, activation='softmax')\n",
    "    ])\n",
    "    \n",
    "    return test_model"
   ]
  },
  {
   "cell_type": "markdown",
   "metadata": {},
   "source": [
    "Next, we define a train_step function that applies gradient updates to `trainable_variables` given the `model`, `images`, and `labels`. It leverages the previously defined `loss_object` function to compute the loss, and `optimizer` to apply the gradients, as illustrated in the following code snippet:"
   ]
  },
  {
   "cell_type": "code",
   "execution_count": 9,
   "metadata": {},
   "outputs": [],
   "source": [
    "def train_step(model, images, labels):        \n",
    "    with tf.GradientTape() as tape:\n",
    "        predictions = model(images, training=True)\n",
    "        loss = loss_object(labels, predictions)\n",
    "    gradients = tape.gradient(loss, model.trainable_variables)\n",
    "    optimizer.apply_gradients(zip(gradients, model.trainable_variables))"
   ]
  },
  {
   "cell_type": "markdown",
   "metadata": {},
   "source": [
    "The following function, train_rs_classifier, initializes and trains a smooth classifier using ART's `TensorFlowV2RandomizedSmoothing` estimator. If sigma ($\\sigma$) is zero, which means there's no variance in the intended Gaussian noise, it also can construct an unsmoothed classifier with `TensorFlowV2Classifier` and place it in `TensorFlowV2RandomizedSmoothing` so that it can be certified with `sigma_cert`. The function takes training data (`X_train`, `y_train`) and all the parameters we had previously initialized. It also defaults the `alpha` threshold for abstaining predictions at 0.001"
   ]
  },
  {
   "cell_type": "code",
   "execution_count": 10,
   "metadata": {},
   "outputs": [],
   "source": [
    "def train_rs_classifier(X_train, y_train, nb_epochs, batch_size, min_, max_,\\\n",
    "                        nb_classes, sample_size, loss_object, train_step, sigma=0, sigma_cert=0.5,\\\n",
    "                        alpha=0.001):\n",
    "    \n",
    "    input_shape = X_train.shape[1:]\n",
    "    if sigma > 0:\n",
    "        rs_classifier = TensorFlowV2RandomizedSmoothing(model=get_model(input_shape, min_, max_),\\\n",
    "                                                        input_shape=input_shape,\\\n",
    "                                                        clip_values=(min_, max_),\\\n",
    "                                                        nb_classes=nb_classes,\\\n",
    "                                                        sample_size=sample_size,\\\n",
    "                                                        loss_object=loss_object,\\\n",
    "                                                        train_step=train_step,\\\n",
    "                                                        scale=sigma, alpha=alpha,\\\n",
    "                                                        channels_first=False)\n",
    "        \n",
    "        rs_classifier.fit(X_train, y_train, nb_epochs=nb_epochs, batch_size=batch_size)\n",
    "        \n",
    "        return rs_classifier\n",
    "    else:\n",
    "        classifier = TensorFlowV2Classifier(model=get_model(input_shape, min_, max_),\\\n",
    "                                                input_shape=input_shape,\\\n",
    "                                                clip_values=(min_, max_),\\\n",
    "                                                nb_classes=nb_classes,\\\n",
    "                                                loss_object=loss_object,\\\n",
    "                                                train_step=train_step,\\\n",
    "                                                channels_first=False)\n",
    "        \n",
    "        classifier.fit(X_train, y_train, nb_epochs=nb_epochs, batch_size=batch_size)\n",
    "        \n",
    "        rs_classifier = TensorFlowV2RandomizedSmoothing(model=classifier.model,\\\n",
    "                                                        input_shape=input_shape,\\\n",
    "                                                        clip_values=(min_, max_),\\\n",
    "                                                        nb_classes=nb_classes,\\\n",
    "                                                        sample_size=sample_size,\\\n",
    "                                                        loss_object=loss_object,\\\n",
    "                                                        train_step=train_step,\\\n",
    "                                                        scale=sigma_cert, alpha=alpha,\\\n",
    "                                                        channels_first=False)\n",
    "        return classifier, rs_classifier"
   ]
  },
  {
   "cell_type": "markdown",
   "metadata": {},
   "source": [
    "Now, let's train three classifiers, as follows:\n",
    "\n",
    "- `classifier_0`: An unsmoothed classifier. Please note that when $\\alpha = 0$, the train_rs_classifier function also returns `rs_classifier_0`, which is not a smoothed classifier but the trained unsmoothed certifiable classifier.\n",
    "- `rs_classifier_1`: A certifiably smoothed classifier, with $\\alpha = 0.25$.\n",
    "- `rs_classifier_2`: A certifiably smoothed classifier, with $\\alpha = 0.5$.\n",
    "\n",
    "The following snippet trains the three classifiers listed previously, using the `train_rs_classifier` function:"
   ]
  },
  {
   "cell_type": "code",
   "execution_count": 11,
   "metadata": {},
   "outputs": [
    {
     "name": "stdout",
     "output_type": "stream",
     "text": [
      "CPU times: user 3h 24min 31s, sys: 1h 42min 24s, total: 5h 6min 55s\n",
      "Wall time: 1h 40min 10s\n"
     ]
    }
   ],
   "source": [
    "%%time\n",
    "sigma_0 = 0\n",
    "classifier_0, rs_classifier_0 = train_rs_classifier(X_train, y_train_ohe, nb_epochs,\\\n",
    "                                                    batch_size, min_, max_, nb_classes,\\\n",
    "                                                    sample_size, loss_object, train_step,\\\n",
    "                                                    sigma_0) \n",
    "\n",
    "sigma_1 = 0.25\n",
    "rs_classifier_1 = train_rs_classifier(X_train, y_train_ohe, nb_epochs, batch_size,\\\n",
    "                                      min_, max_, nb_classes, sample_size, loss_object,\\\n",
    "                                      train_step, sigma_1)\n",
    "\n",
    "sigma_2 = 0.5\n",
    "rs_classifier_2 = train_rs_classifier(X_train, y_train_ohe, nb_epochs, batch_size,\\\n",
    "                                      min_, max_, nb_classes, sample_size, loss_object,\\\n",
    "                                      train_step, sigma_2)"
   ]
  },
  {
   "cell_type": "markdown",
   "metadata": {},
   "source": [
    "Once we have trained our three classifiers, we can predict on test samples (`X_test_mdsample`) for all of them. This will take more time than usual because it needs to make sure the predictions are robust."
   ]
  },
  {
   "cell_type": "code",
   "execution_count": 12,
   "metadata": {},
   "outputs": [
    {
     "name": "stderr",
     "output_type": "stream",
     "text": [
      "Randomized smoothing: 100%|██████████| 200/200 [01:40<00:00,  1.98it/s]\n",
      "Randomized smoothing: 100%|██████████| 200/200 [01:52<00:00,  1.78it/s]"
     ]
    },
    {
     "name": "stdout",
     "output_type": "stream",
     "text": [
      "CPU times: user 6min 21s, sys: 3min 43s, total: 10min 4s\n",
      "Wall time: 3min 34s\n"
     ]
    },
    {
     "name": "stderr",
     "output_type": "stream",
     "text": [
      "\n"
     ]
    }
   ],
   "source": [
    "%%time\n",
    "y_preds_0 = classifier_0.predict(X_test_mdsample)\n",
    "y_preds_rs_1 = rs_classifier_1.predict(X_test_mdsample)\n",
    "y_preds_rs_2 = rs_classifier_2.predict(X_test_mdsample)"
   ]
  },
  {
   "cell_type": "markdown",
   "metadata": {},
   "source": [
    "With the predictions, we can now gauge predictive performance for all three classifiers, with compute_accuracy. A useful feature of this function is that it returns accuracy and coverage. Coverage is what percentage of the predictions were made—in other words, what percentage it didn't abstain—and accuracy is computed only over predictions it did make."
   ]
  },
  {
   "cell_type": "code",
   "execution_count": 13,
   "metadata": {},
   "outputs": [
    {
     "name": "stdout",
     "output_type": "stream",
     "text": [
      "Original Classifier\n",
      "\tAccuracy: 99.50%\tCoverage: 100.00%\n",
      "\n",
      "Smoothed Classifier (σ=0.25)\n",
      "\tAccuracy: 38.00%\tCoverage: 100.00%\n",
      "\n",
      "Smoothed Classifier (σ=0.50)\n",
      "\tAccuracy: 99.50%\tCoverage: 100.00%\n",
      "CPU times: user 1.12 ms, sys: 3.62 ms, total: 4.74 ms\n",
      "Wall time: 9.05 ms\n"
     ]
    }
   ],
   "source": [
    "%%time\n",
    "acc_0, cov_0 = compute_accuracy(y_preds_0, y_test_mdsample_ohe)\n",
    "acc_rs_1, cov_rs_1 = compute_accuracy(y_preds_rs_1, y_test_mdsample_ohe)\n",
    "acc_rs_2, cov_rs_2 = compute_accuracy(y_preds_rs_2, y_test_mdsample_ohe)\n",
    "\n",
    "print(\"Original Classifier\")\n",
    "print(\"\\tAccuracy: %.2f%%\\tCoverage: %.2f%%\" % (acc_0*100, cov_0*100))\n",
    "\n",
    "print(\"\\nSmoothed Classifier (σ=%.2f)\" % (sigma_1))\n",
    "print(\"\\tAccuracy: %.2f%%\\tCoverage: %.2f%%\" % (acc_rs_1*100, cov_rs_1*100))\n",
    "\n",
    "print(\"\\nSmoothed Classifier (σ=%.2f)\" % (sigma_2))\n",
    "print(\"\\tAccuracy: %.2f%%\\tCoverage: %.2f%%\" % (acc_rs_2*100, cov_rs_2*100))"
   ]
  },
  {
   "cell_type": "markdown",
   "metadata": {},
   "source": [
    "With only 100 samples and evaluated against 200 images, all three classifiers aren't too far\n",
    "off from each other. The smoothed classifier reports a 100% accuracy but with 99.5%, which suggests one image is particularly hard to classify. It's likely the same one the unsmoothed classifier misclassified. The $\\alpha = 0.5$ smoothed classifier reduces accuracy, suggesting that an increase in noise pushed another image into being misclassified."
   ]
  },
  {
   "cell_type": "markdown",
   "metadata": {},
   "source": [
    "These results seem very promising, but we haven't actually stress-tested the classifiers. We do this with certify, except this time we increase the number of samples to 500 (n). This function returns predictions and corresponding radiuses for each prediction, as illustrated in the following code snippet:"
   ]
  },
  {
   "cell_type": "code",
   "execution_count": 14,
   "metadata": {},
   "outputs": [
    {
     "name": "stdout",
     "output_type": "stream",
     "text": [
      "CPU times: user 57min 16s, sys: 31min 43s, total: 1h 29min\n",
      "Wall time: 32min 39s\n"
     ]
    }
   ],
   "source": [
    "%%time\n",
    "predictions_0, radiuses_0 = rs_classifier_0.certify(X_test_mdsample, n=500)\n",
    "predictions_1, radiuses_1 = rs_classifier_1.certify(X_test_mdsample, n=500)\n",
    "predictions_2, radiuses_2 = rs_classifier_2.certify(X_test_mdsample, n=500)"
   ]
  },
  {
   "cell_type": "markdown",
   "metadata": {},
   "source": [
    "How do we leverage the radiuses to certify accuracy? We must use the radiuses as thresholds, measuring the percentage of predictions above a radius threshold that remain correct. We can create a function to this effect (`calc_cert_accuracy`). This takes a list of radius thresholds to test (`radius_list`), the results of a model certification process (`predictions`, `radiuses`), and labels (`y_test`) to test the prediction against.\n",
    "The code for this can be seen in the following snippet:"
   ]
  },
  {
   "cell_type": "code",
   "execution_count": 15,
   "metadata": {},
   "outputs": [],
   "source": [
    "def calc_cert_accuracy(radius_list, predictions, radiuses, y_test):\n",
    "    \n",
    "    cert_accuracy = []\n",
    "    nb_certs = len(radiuses)\n",
    "    \n",
    "    for r in radius_list:\n",
    "        r_idx = np.where(radiuses >= r)[0]\n",
    "        y_test_subset = y_test[r_idx]\n",
    "        cert_accuracy_r = np.sum(predictions[r_idx] == np.argmax(y_test_subset, axis=1)) / nb_certs\n",
    "        cert_accuracy.append(cert_accuracy_r)\n",
    "        \n",
    "    return cert_accuracy"
   ]
  },
  {
   "cell_type": "markdown",
   "metadata": {},
   "source": [
    "We will now plot a line chart with radius thresholds to test in the x axis and corresponding certified accuracy in the `y` axis for all three classifiers. We will test 151 radiuses (`radius_list`) between 0 and 1.5 (spaced evenly at 0.01), and then use `calc_cert_accuracy` to calculate the certified accuracy for the three classifiers. The rest of the code is simply plotting these against the `radius_list`, as illustrated in the following\n",
    "code snippet:"
   ]
  },
  {
   "cell_type": "code",
   "execution_count": 16,
   "metadata": {},
   "outputs": [
    {
     "name": "stdout",
     "output_type": "stream",
     "text": [
      "CPU times: user 9.4 ms, sys: 3.39 ms, total: 12.8 ms\n",
      "Wall time: 16.6 ms\n"
     ]
    }
   ],
   "source": [
    "%%time\n",
    "radius_list = np.linspace(0, 1.5, 151)\n",
    "cert_accuracy_0 = calc_cert_accuracy(radius_list, predictions_0,\\\n",
    "                                     radiuses_0, y_test_mdsample_ohe)\n",
    "cert_accuracy_1 = calc_cert_accuracy(radius_list, predictions_1,\\\n",
    "                                     radiuses_1, y_test_mdsample_ohe)\n",
    "cert_accuracy_2 = calc_cert_accuracy(radius_list, predictions_2,\\\n",
    "                                     radiuses_2, y_test_mdsample_ohe)"
   ]
  },
  {
   "cell_type": "code",
   "execution_count": 17,
   "metadata": {},
   "outputs": [
    {
     "data": {
      "image/png": "[encoded data removed]",
      "text/plain": [
       "<Figure size 1008x648 with 1 Axes>"
      ]
     },
     "metadata": {
      "needs_background": "light"
     },
     "output_type": "display_data"
    }
   ],
   "source": [
    "plt.figure(figsize=(14,9))\n",
    "plt.plot(radius_list, cert_accuracy_0, 'r-', label='original')\n",
    "plt.plot(radius_list, cert_accuracy_1,\\\n",
    "         '-', color='green', label='smoothed, $\\sigma$=' + str(sigma_1))\n",
    "plt.plot(radius_list, cert_accuracy_2,\\\n",
    "         '-', color='blue', label='smoothed, $\\sigma$=' + str(sigma_2))\n",
    "plt.xlabel('Radius', fontsize=14)\n",
    "plt.ylabel('Certified Accuracy', fontsize=14)\n",
    "plt.legend()\n",
    "plt.show()"
   ]
  }
 ],
 "metadata": {
  "kernelspec": {
   "display_name": "Python 3",
   "language": "python",
   "name": "python3"
  },
  "language_info": {
   "codemirror_mode": {
    "name": "ipython",
    "version": 3
   },
   "file_extension": ".py",
   "mimetype": "text/x-python",
   "name": "python",
   "nbconvert_exporter": "python",
   "pygments_lexer": "ipython3",
   "version": "3.7.6"
  }
 },
 "nbformat": 4,
 "nbformat_minor": 4
}
